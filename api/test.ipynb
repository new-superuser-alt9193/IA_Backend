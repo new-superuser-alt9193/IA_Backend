{
 "cells": [
  {
   "cell_type": "code",
   "execution_count": 3,
   "metadata": {},
   "outputs": [
    {
     "name": "stdout",
     "output_type": "stream",
     "text": [
      "Defaulting to user installation because normal site-packages is not writeable\n",
      "Collecting mysql\n",
      "  Using cached mysql-0.0.3-py3-none-any.whl (1.2 kB)\n",
      "Collecting mysqlclient\n",
      "  Using cached mysqlclient-2.1.1.tar.gz (88 kB)\n",
      "  Preparing metadata (setup.py) ... \u001b[?25ldone\n",
      "\u001b[?25hBuilding wheels for collected packages: mysqlclient\n",
      "  Building wheel for mysqlclient (setup.py) ... \u001b[?25ldone\n",
      "\u001b[?25h  Created wheel for mysqlclient: filename=mysqlclient-2.1.1-cp310-cp310-linux_x86_64.whl size=103931 sha256=903701ce59b8385e69788ce85c0d5197033ea277509cbbb619ecc105522f5bca\n",
      "  Stored in directory: /home/alt9193/.cache/pip/wheels/7d/34/ba/a769c165b01646816afdf9bf792e847ef149693fee432b6b65\n",
      "Successfully built mysqlclient\n",
      "Installing collected packages: mysqlclient, mysql\n",
      "Successfully installed mysql-0.0.3 mysqlclient-2.1.1\n",
      "Defaulting to user installation because normal site-packages is not writeable\n",
      "Collecting mysql-connector-python\n",
      "\u001b[33m  WARNING: Retrying (Retry(total=4, connect=None, read=None, redirect=None, status=None)) after connection broken by 'ReadTimeoutError(\"HTTPSConnectionPool(host='files.pythonhosted.org', port=443): Read timed out. (read timeout=15)\")': /packages/b9/69/e89886097681620e79fbd9a08348c2e5b5ce5941a5e21369c9567289ef80/mysql_connector_python-8.0.30-cp310-cp310-manylinux1_x86_64.whl\u001b[0m\u001b[33m\n",
      "\u001b[0m\u001b[33m  WARNING: Retrying (Retry(total=3, connect=None, read=None, redirect=None, status=None)) after connection broken by 'NewConnectionError('<pip._vendor.urllib3.connection.HTTPSConnection object at 0x7fea6a9db880>: Failed to establish a new connection: [Errno 111] Connection refused')': /packages/b9/69/e89886097681620e79fbd9a08348c2e5b5ce5941a5e21369c9567289ef80/mysql_connector_python-8.0.30-cp310-cp310-manylinux1_x86_64.whl\u001b[0m\u001b[33m\n",
      "\u001b[0m  Downloading mysql_connector_python-8.0.30-cp310-cp310-manylinux1_x86_64.whl (25.4 MB)\n",
      "\u001b[2K     \u001b[90m━━━━━━━━━━━━━━━━━━━━━━━━━━━━━━━━━━━━━━━━\u001b[0m \u001b[32m25.4/25.4 MB\u001b[0m \u001b[31m95.0 kB/s\u001b[0m eta \u001b[36m0:00:00\u001b[0m00:01\u001b[0m00:05\u001b[0m\n",
      "\u001b[?25hCollecting protobuf<=3.20.1,>=3.11.0\n",
      "  Downloading protobuf-3.20.1-cp310-cp310-manylinux_2_12_x86_64.manylinux2010_x86_64.whl (1.1 MB)\n",
      "\u001b[2K     \u001b[90m━━━━━━━━━━━━━━━━━━━━━━━━━━━━━━━━━━━━━━━━\u001b[0m \u001b[32m1.1/1.1 MB\u001b[0m \u001b[31m72.9 kB/s\u001b[0m eta \u001b[36m0:00:00\u001b[0m00:01\u001b[0m00:01\u001b[0mm\n",
      "\u001b[?25hInstalling collected packages: protobuf, mysql-connector-python\n",
      "Successfully installed mysql-connector-python-8.0.30 protobuf-3.20.1\n"
     ]
    }
   ],
   "source": [
    "!pip install mysql\n",
    "!pip install mysql-connector-python"
   ]
  },
  {
   "cell_type": "code",
   "execution_count": 4,
   "metadata": {},
   "outputs": [],
   "source": [
    "import mysql.connector as sql"
   ]
  },
  {
   "cell_type": "code",
   "execution_count": 20,
   "metadata": {},
   "outputs": [
    {
     "name": "stdout",
     "output_type": "stream",
     "text": [
      "<mysql.connector.connection_cext.CMySQLConnection object at 0x7f1c0e571ff0>\n"
     ]
    }
   ],
   "source": [
    "db_connect = sql.connect(host='database-1.c7ext510fslq.us-east-1.rds.amazonaws.com', user='admin', password ='s13sMachineLearning')\n",
    "print(db_connect)"
   ]
  },
  {
   "cell_type": "code",
   "execution_count": 21,
   "metadata": {},
   "outputs": [],
   "source": [
    "miCursor = db_connect.cursor()"
   ]
  },
  {
   "cell_type": "code",
   "execution_count": 22,
   "metadata": {},
   "outputs": [],
   "source": [
    "miCursor.execute(\"USE IA;\")"
   ]
  },
  {
   "cell_type": "code",
   "execution_count": 13,
   "metadata": {},
   "outputs": [
    {
     "name": "stdout",
     "output_type": "stream",
     "text": [
      "('index', b'bigint', 'YES', 'MUL', None, '')\n",
      "('customer_ID', b'text', 'YES', '', None, '')\n",
      "('target', b'double', 'YES', '', None, '')\n",
      "('column_0', b'double', 'YES', '', None, '')\n",
      "('column_1', b'double', 'YES', '', None, '')\n",
      "('column_2', b'double', 'YES', '', None, '')\n",
      "('column_3', b'double', 'YES', '', None, '')\n",
      "('column_4', b'double', 'YES', '', None, '')\n",
      "('column_5', b'double', 'YES', '', None, '')\n",
      "('column_6', b'double', 'YES', '', None, '')\n",
      "('column_7', b'double', 'YES', '', None, '')\n",
      "('column_8', b'double', 'YES', '', None, '')\n",
      "('column_9', b'double', 'YES', '', None, '')\n",
      "('column_10', b'double', 'YES', '', None, '')\n",
      "('column_11', b'double', 'YES', '', None, '')\n",
      "('column_12', b'double', 'YES', '', None, '')\n",
      "('column_13', b'double', 'YES', '', None, '')\n",
      "('column_14', b'double', 'YES', '', None, '')\n",
      "('column_15', b'double', 'YES', '', None, '')\n",
      "('column_16', b'double', 'YES', '', None, '')\n",
      "('column_17', b'double', 'YES', '', None, '')\n",
      "('column_18', b'double', 'YES', '', None, '')\n",
      "('column_19', b'double', 'YES', '', None, '')\n"
     ]
    }
   ],
   "source": [
    "miCursor.execute(\"DESC customer_data;\")\n",
    "\n",
    "miResultado = miCursor.fetchall()\n",
    "\n",
    "for x in miResultado:\n",
    "  print(x)"
   ]
  },
  {
   "cell_type": "code",
   "execution_count": 23,
   "metadata": {},
   "outputs": [
    {
     "name": "stdout",
     "output_type": "stream",
     "text": [
      "('0000099d6bd597052cdcda90ffabf56573fe9d7c79be5fbac11a8ed792feb62a',)\n",
      "('00000fd6641609c6ece5454664794f0340ad84dddce9a267a310b5ae68e9d8e5',)\n",
      "('00001b22f846c82c51f6e3958ccd81970162bae8b007e80662ef27519fcc18c1',)\n",
      "('000041bdba6ecadd89a52d11886e8eaaec9325906c9723355abb5ca523658edc',)\n",
      "('00007889e4fcd2614b6cbe7f8f3d2e5c728eca32d9eb8ad51ca8b8c4a24cefed',)\n",
      "('000098081fde4fd64bc4d503a5d6f86a0aedc425c96f5235f98b0f47c9d7d8d4',)\n",
      "('0000f99513770170a1aba690daeeb8a96da4a39f11fc27da5c30a79db61c1e85',)\n",
      "('00013181a0c5fc8f1ea38cd2b90fe8ad2fa8cad9d9f13e4063bdf6b0f7d51eb6',)\n",
      "('00013c6e1cec7c21bede7cb319f1e28eb994f5625257f479c53ad6e90c177f7c',)\n",
      "('0001812036f1558332e5c0880ecbad70b13a6f28ab04a8db6d83a26ef40aadb0',)\n"
     ]
    }
   ],
   "source": [
    "miCursor.execute(\"select customer_ID from customer_data limit 10\")\n",
    "miResultado = miCursor.fetchall()\n",
    "for x in miResultado:\n",
    "  print(x)"
   ]
  }
 ],
 "metadata": {
  "kernelspec": {
   "display_name": "Python 3.10.6 64-bit",
   "language": "python",
   "name": "python3"
  },
  "language_info": {
   "codemirror_mode": {
    "name": "ipython",
    "version": 3
   },
   "file_extension": ".py",
   "mimetype": "text/x-python",
   "name": "python",
   "nbconvert_exporter": "python",
   "pygments_lexer": "ipython3",
   "version": "3.10.6"
  },
  "orig_nbformat": 4,
  "vscode": {
   "interpreter": {
    "hash": "916dbcbb3f70747c44a77c7bcd40155683ae19c65e1c03b4aa3499c5328201f1"
   }
  }
 },
 "nbformat": 4,
 "nbformat_minor": 2
}
